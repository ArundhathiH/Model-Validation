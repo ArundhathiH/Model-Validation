{
 "cells": [
  {
   "cell_type": "code",
   "execution_count": 7,
   "id": "8d27acc8",
   "metadata": {},
   "outputs": [],
   "source": [
    "from sklearn.datasets import load_digits\n",
    "from sklearn.linear_model import LogisticRegression\n",
    "from sklearn.svm import SVC\n",
    "from sklearn.ensemble import RandomForestClassifier\n",
    "\n",
    "import warnings\n",
    "warnings.filterwarnings('ignore')"
   ]
  },
  {
   "cell_type": "code",
   "execution_count": 2,
   "id": "4457bb55",
   "metadata": {},
   "outputs": [],
   "source": [
    "digits = load_digits()"
   ]
  },
  {
   "cell_type": "code",
   "execution_count": 65,
   "id": "541c4413",
   "metadata": {},
   "outputs": [
    {
     "data": {
      "text/plain": [
       "['DESCR', 'data', 'feature_names', 'frame', 'images', 'target', 'target_names']"
      ]
     },
     "execution_count": 65,
     "metadata": {},
     "output_type": "execute_result"
    }
   ],
   "source": [
    "dir(digits)"
   ]
  },
  {
   "cell_type": "markdown",
   "id": "a5afd427",
   "metadata": {},
   "source": [
    "# 1. Train Test Split"
   ]
  },
  {
   "cell_type": "code",
   "execution_count": 3,
   "id": "e83317f8",
   "metadata": {},
   "outputs": [],
   "source": [
    "from sklearn.model_selection import train_test_split"
   ]
  },
  {
   "cell_type": "code",
   "execution_count": 41,
   "id": "392a6fd8",
   "metadata": {},
   "outputs": [],
   "source": [
    "X_train,X_test,y_train,y_test=train_test_split(digits.data,digits.target,test_size=0.3,random_state=10)"
   ]
  },
  {
   "cell_type": "code",
   "execution_count": 42,
   "id": "164ca145",
   "metadata": {},
   "outputs": [
    {
     "data": {
      "text/plain": [
       "0.9592592592592593"
      ]
     },
     "execution_count": 42,
     "metadata": {},
     "output_type": "execute_result"
    }
   ],
   "source": [
    "lr=LogisticRegression()\n",
    "lr.fit(X_train,y_train)\n",
    "lr.score(X_test,y_test)"
   ]
  },
  {
   "cell_type": "code",
   "execution_count": 43,
   "id": "baf6e3de",
   "metadata": {},
   "outputs": [
    {
     "data": {
      "text/plain": [
       "0.9833333333333333"
      ]
     },
     "execution_count": 43,
     "metadata": {},
     "output_type": "execute_result"
    }
   ],
   "source": [
    "svm=SVC(kernel='rbf') #{'linear', 'poly', 'rbf', 'sigmoid', 'precomputed'} \n",
    "svm.fit(X_train,y_train)\n",
    "svm.score(X_test,y_test)"
   ]
  },
  {
   "cell_type": "code",
   "execution_count": 44,
   "id": "5a68ae1f",
   "metadata": {},
   "outputs": [
    {
     "data": {
      "text/plain": [
       "0.9611111111111111"
      ]
     },
     "execution_count": 44,
     "metadata": {},
     "output_type": "execute_result"
    }
   ],
   "source": [
    "rf=RandomForestClassifier(n_estimators=30)\n",
    "rf.fit(X_train,y_train)\n",
    "rf.score(X_test,y_test)"
   ]
  },
  {
   "cell_type": "markdown",
   "id": "ad0b35dc",
   "metadata": {},
   "source": [
    "# 2. K-fold Cross Validation "
   ]
  },
  {
   "cell_type": "code",
   "execution_count": 67,
   "id": "b04f64bb",
   "metadata": {},
   "outputs": [],
   "source": [
    "from sklearn.model_selection import KFold, StratifiedKFold"
   ]
  },
  {
   "cell_type": "code",
   "execution_count": 163,
   "id": "4644146c",
   "metadata": {},
   "outputs": [
    {
     "data": {
      "text/plain": [
       "KFold(n_splits=10, random_state=None, shuffle=False)"
      ]
     },
     "execution_count": 163,
     "metadata": {},
     "output_type": "execute_result"
    }
   ],
   "source": [
    "kf=KFold(n_splits=10)\n",
    "kf"
   ]
  },
  {
   "cell_type": "code",
   "execution_count": 138,
   "id": "4adf5d7f",
   "metadata": {},
   "outputs": [
    {
     "data": {
      "text/plain": [
       "StratifiedKFold(n_splits=3, random_state=None, shuffle=False)"
      ]
     },
     "execution_count": 138,
     "metadata": {},
     "output_type": "execute_result"
    }
   ],
   "source": [
    "folds=StratifiedKFold(n_splits=3)\n",
    "folds"
   ]
  },
  {
   "cell_type": "code",
   "execution_count": 62,
   "id": "906b89c8",
   "metadata": {},
   "outputs": [],
   "source": [
    "data=[1,2,3,4,5,6,7,8,9]"
   ]
  },
  {
   "cell_type": "code",
   "execution_count": 63,
   "id": "62b0cc24",
   "metadata": {},
   "outputs": [
    {
     "name": "stdout",
     "output_type": "stream",
     "text": [
      "[3 4 5 6 7 8] [0 1 2]\n",
      "[0 1 2 6 7 8] [3 4 5]\n",
      "[0 1 2 3 4 5] [6 7 8]\n"
     ]
    }
   ],
   "source": [
    "for train_index,test_index in kf.split(data):\n",
    "    print(train_index,test_index)"
   ]
  },
  {
   "cell_type": "code",
   "execution_count": 164,
   "id": "f74e9016",
   "metadata": {},
   "outputs": [],
   "source": [
    "def get_score(model,X_train,X_test,y_train,y_test):\n",
    "    model.fit(X_train,y_train)\n",
    "    return model.score(X_test,y_test)"
   ]
  },
  {
   "cell_type": "code",
   "execution_count": 165,
   "id": "40211c4a",
   "metadata": {},
   "outputs": [],
   "source": [
    "lr=[]\n",
    "svm=[]\n",
    "rf=[]\n",
    "\n",
    "for train_index,test_index in kf.split(digits.data):\n",
    "    X_train, X_test, y_train, y_test = digits.data[train_index], digits.data[test_index], digits.target[train_index], digits.target[test_index]\n",
    "    lr.append(get_score(LogisticRegression(), X_train, X_test, y_train, y_test))\n",
    "    svm.append(get_score(SVC(), X_train, X_test, y_train, y_test))\n",
    "    rf.append(get_score(RandomForestClassifier(), X_train, X_test, y_train, y_test))"
   ]
  },
  {
   "cell_type": "code",
   "execution_count": 166,
   "id": "10b09f89",
   "metadata": {},
   "outputs": [
    {
     "data": {
      "text/plain": [
       "[0.9055555555555556,\n",
       " 0.9777777777777777,\n",
       " 0.8777777777777778,\n",
       " 0.9555555555555556,\n",
       " 0.9444444444444444,\n",
       " 0.9666666666666667,\n",
       " 0.9555555555555556,\n",
       " 0.9329608938547486,\n",
       " 0.8770949720670391,\n",
       " 0.9217877094972067]"
      ]
     },
     "execution_count": 166,
     "metadata": {},
     "output_type": "execute_result"
    }
   ],
   "source": [
    "lr #accuracy scores of the models during each iteration"
   ]
  },
  {
   "cell_type": "code",
   "execution_count": 167,
   "id": "89e702d0",
   "metadata": {},
   "outputs": [
    {
     "data": {
      "text/plain": [
       "[0.9444444444444444,\n",
       " 1.0,\n",
       " 0.9333333333333333,\n",
       " 0.9833333333333333,\n",
       " 0.9833333333333333,\n",
       " 0.9888888888888889,\n",
       " 0.9888888888888889,\n",
       " 0.994413407821229,\n",
       " 0.9664804469273743,\n",
       " 0.9497206703910615]"
      ]
     },
     "execution_count": 167,
     "metadata": {},
     "output_type": "execute_result"
    }
   ],
   "source": [
    "svm"
   ]
  },
  {
   "cell_type": "code",
   "execution_count": 168,
   "id": "0cc83240",
   "metadata": {},
   "outputs": [
    {
     "data": {
      "text/plain": [
       "[0.9,\n",
       " 0.9777777777777777,\n",
       " 0.9388888888888889,\n",
       " 0.9555555555555556,\n",
       " 0.9555555555555556,\n",
       " 0.9722222222222222,\n",
       " 0.9722222222222222,\n",
       " 0.9608938547486033,\n",
       " 0.9385474860335196,\n",
       " 0.9441340782122905]"
      ]
     },
     "execution_count": 168,
     "metadata": {},
     "output_type": "execute_result"
    }
   ],
   "source": [
    "rf"
   ]
  },
  {
   "cell_type": "code",
   "execution_count": 169,
   "id": "9854caef",
   "metadata": {},
   "outputs": [
    {
     "data": {
      "text/plain": [
       "array([0.90555556, 0.96111111, 0.87777778, 0.92777778, 0.94444444,\n",
       "       0.96666667, 0.95      , 0.93854749, 0.87150838, 0.93854749])"
      ]
     },
     "execution_count": 169,
     "metadata": {},
     "output_type": "execute_result"
    }
   ],
   "source": [
    "from sklearn.model_selection import cross_val_score\n",
    "\n",
    "cross_val_score(LogisticRegression(), digits.data, digits.target, cv=10)  #same steps did using for loop, cv--no.of folds"
   ]
  },
  {
   "cell_type": "code",
   "execution_count": 146,
   "id": "da59f712",
   "metadata": {},
   "outputs": [],
   "source": [
    "lr_stratified=[]\n",
    "svm_stratified=[]\n",
    "rf_stratified=[]\n",
    "\n",
    "for train_index,test_index in folds.split(digits.data,digits.target):\n",
    "    X_train, X_test, y_train, y_test = digits.data[train_index], digits.data[test_index], digits.target[train_index], digits.target[test_index]\n",
    "    lr_stratified.append(get_score(LogisticRegression(), X_train, X_test, y_train, y_test))\n",
    "    svm_stratified.append(get_score(SVC(), X_train, X_test, y_train, y_test))\n",
    "    rf_stratified.append(get_score(RandomForestClassifier(), X_train, X_test, y_train, y_test))"
   ]
  },
  {
   "cell_type": "code",
   "execution_count": 175,
   "id": "33dbd437",
   "metadata": {},
   "outputs": [
    {
     "data": {
      "text/plain": [
       "[0.9215358931552587, 0.9415692821368948, 0.9165275459098498]"
      ]
     },
     "execution_count": 175,
     "metadata": {},
     "output_type": "execute_result"
    }
   ],
   "source": [
    "lr_stratified"
   ]
  },
  {
   "cell_type": "code",
   "execution_count": 148,
   "id": "d96de2b1",
   "metadata": {},
   "outputs": [
    {
     "data": {
      "text/plain": [
       "[0.9649415692821369, 0.9799666110183639, 0.9649415692821369]"
      ]
     },
     "execution_count": 148,
     "metadata": {},
     "output_type": "execute_result"
    }
   ],
   "source": [
    "svm_stratified"
   ]
  },
  {
   "cell_type": "code",
   "execution_count": 150,
   "id": "fc7712e2",
   "metadata": {},
   "outputs": [
    {
     "data": {
      "text/plain": [
       "[0.9465776293823038, 0.9465776293823038, 0.9248747913188647]"
      ]
     },
     "execution_count": 150,
     "metadata": {},
     "output_type": "execute_result"
    }
   ],
   "source": [
    "rf_stratified"
   ]
  },
  {
   "cell_type": "markdown",
   "id": "2dc0f9ca",
   "metadata": {},
   "source": [
    "## Method 2"
   ]
  },
  {
   "cell_type": "code",
   "execution_count": 172,
   "id": "d828b34d",
   "metadata": {},
   "outputs": [],
   "source": [
    "X=digits.data\n",
    "y=digits.target"
   ]
  },
  {
   "cell_type": "code",
   "execution_count": 176,
   "id": "c118ff6d",
   "metadata": {},
   "outputs": [],
   "source": [
    "kfold=KFold(n_splits=5, shuffle=True, random_state=None) #shuffle=False and random state gives error as shuffling should happen for random state\n",
    "cv_scores = cross_val_score(estimator=LogisticRegression(), X=X, y=y, cv=kfold)"
   ]
  },
  {
   "cell_type": "code",
   "execution_count": 178,
   "id": "c67170f4",
   "metadata": {},
   "outputs": [
    {
     "name": "stdout",
     "output_type": "stream",
     "text": [
      "CV Scores          :[0.975      0.96944444 0.97493036 0.96935933 0.94428969]\n",
      "Mean Accuracy      : 0.9666047663262148\n",
      "Standard Deviation : 0.011431617258855572\n"
     ]
    }
   ],
   "source": [
    "print(f'CV Scores          :{cv_scores}')\n",
    "print(f'Mean Accuracy      : {cv_scores.mean()}')\n",
    "print(f'Standard Deviation : {cv_scores.std()}')"
   ]
  },
  {
   "cell_type": "markdown",
   "id": "6c8f8ec2",
   "metadata": {},
   "source": [
    "# 3. Leave One Out Cross Validation (LOOCV)"
   ]
  },
  {
   "cell_type": "code",
   "execution_count": 179,
   "id": "269e3c6b",
   "metadata": {},
   "outputs": [],
   "source": [
    "from sklearn.model_selection import LeaveOneOut"
   ]
  },
  {
   "cell_type": "code",
   "execution_count": 180,
   "id": "f4bc24a8",
   "metadata": {},
   "outputs": [
    {
     "name": "stdout",
     "output_type": "stream",
     "text": [
      "CV Scores          :[1. 1. 1. ... 1. 1. 1.]\n",
      "Mean Accuracy      : 0.9649415692821369\n",
      "Standard Deviation : 0.18392753234212622\n"
     ]
    }
   ],
   "source": [
    "loocv = LeaveOneOut()\n",
    "cv_scores = cross_val_score(estimator=LogisticRegression(), X=X, y=y, cv=loocv)\n",
    "\n",
    "print(f'CV Scores          :{cv_scores}')\n",
    "print(f'Mean Accuracy      : {cv_scores.mean()}')\n",
    "print(f'Standard Deviation : {cv_scores.std()}')"
   ]
  },
  {
   "cell_type": "markdown",
   "id": "1634d5f0",
   "metadata": {},
   "source": [
    "## Standard Deviation is high in LOOCV"
   ]
  }
 ],
 "metadata": {
  "kernelspec": {
   "display_name": "Python 3 (ipykernel)",
   "language": "python",
   "name": "python3"
  },
  "language_info": {
   "codemirror_mode": {
    "name": "ipython",
    "version": 3
   },
   "file_extension": ".py",
   "mimetype": "text/x-python",
   "name": "python",
   "nbconvert_exporter": "python",
   "pygments_lexer": "ipython3",
   "version": "3.9.12"
  }
 },
 "nbformat": 4,
 "nbformat_minor": 5
}
