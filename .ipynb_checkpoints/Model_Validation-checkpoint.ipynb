{
 "cells": [
  {
   "cell_type": "code",
   "execution_count": 7,
   "id": "cb89be8e",
   "metadata": {},
   "outputs": [],
   "source": [
    "from sklearn.datasets import load_digits\n",
    "from sklearn.linear_model import LogisticRegression\n",
    "from sklearn.svm import SVC\n",
    "from sklearn.ensemble import RandomForestClassifier\n",
    "\n",
    "import warnings\n",
    "warnings.filterwarnings('ignore')"
   ]
  },
  {
   "cell_type": "code",
   "execution_count": 2,
   "id": "201c9694",
   "metadata": {},
   "outputs": [],
   "source": [
    "digits = load_digits()"
   ]
  },
  {
   "cell_type": "code",
   "execution_count": 65,
   "id": "77851696",
   "metadata": {},
   "outputs": [
    {
     "data": {
      "text/plain": [
       "['DESCR', 'data', 'feature_names', 'frame', 'images', 'target', 'target_names']"
      ]
     },
     "execution_count": 65,
     "metadata": {},
     "output_type": "execute_result"
    }
   ],
   "source": [
    "dir(digits)"
   ]
  },
  {
   "cell_type": "markdown",
   "id": "e1d8b896",
   "metadata": {},
   "source": [
    "# Train Test Split"
   ]
  },
  {
   "cell_type": "code",
   "execution_count": 3,
   "id": "50ba8443",
   "metadata": {},
   "outputs": [],
   "source": [
    "from sklearn.model_selection import train_test_split"
   ]
  },
  {
   "cell_type": "code",
   "execution_count": 41,
   "id": "49136aff",
   "metadata": {},
   "outputs": [],
   "source": [
    "X_train,X_test,y_train,y_test=train_test_split(digits.data,digits.target,test_size=0.3,random_state=10)"
   ]
  },
  {
   "cell_type": "code",
   "execution_count": 42,
   "id": "c507fdc1",
   "metadata": {},
   "outputs": [
    {
     "data": {
      "text/plain": [
       "0.9592592592592593"
      ]
     },
     "execution_count": 42,
     "metadata": {},
     "output_type": "execute_result"
    }
   ],
   "source": [
    "lr=LogisticRegression()\n",
    "lr.fit(X_train,y_train)\n",
    "lr.score(X_test,y_test)"
   ]
  },
  {
   "cell_type": "code",
   "execution_count": 43,
   "id": "904b6bf5",
   "metadata": {},
   "outputs": [
    {
     "data": {
      "text/plain": [
       "0.9833333333333333"
      ]
     },
     "execution_count": 43,
     "metadata": {},
     "output_type": "execute_result"
    }
   ],
   "source": [
    "svm=SVC(kernel='rbf') #{'linear', 'poly', 'rbf', 'sigmoid', 'precomputed'} \n",
    "svm.fit(X_train,y_train)\n",
    "svm.score(X_test,y_test)"
   ]
  },
  {
   "cell_type": "code",
   "execution_count": 44,
   "id": "fe20b2b6",
   "metadata": {},
   "outputs": [
    {
     "data": {
      "text/plain": [
       "0.9611111111111111"
      ]
     },
     "execution_count": 44,
     "metadata": {},
     "output_type": "execute_result"
    }
   ],
   "source": [
    "rf=RandomForestClassifier(n_estimators=30)\n",
    "rf.fit(X_train,y_train)\n",
    "rf.score(X_test,y_test)"
   ]
  },
  {
   "cell_type": "markdown",
   "id": "3bde3906",
   "metadata": {},
   "source": [
    "# K-fold Cross Validation"
   ]
  },
  {
   "cell_type": "code",
   "execution_count": 67,
   "id": "71720eab",
   "metadata": {},
   "outputs": [],
   "source": [
    "from sklearn.model_selection import KFold, StratifiedKFold"
   ]
  },
  {
   "cell_type": "code",
   "execution_count": 163,
   "id": "ee334910",
   "metadata": {},
   "outputs": [
    {
     "data": {
      "text/plain": [
       "KFold(n_splits=10, random_state=None, shuffle=False)"
      ]
     },
     "execution_count": 163,
     "metadata": {},
     "output_type": "execute_result"
    }
   ],
   "source": [
    "kf=KFold(n_splits=10)\n",
    "kf"
   ]
  },
  {
   "cell_type": "code",
   "execution_count": 138,
   "id": "ddb0b325",
   "metadata": {},
   "outputs": [
    {
     "data": {
      "text/plain": [
       "StratifiedKFold(n_splits=3, random_state=None, shuffle=False)"
      ]
     },
     "execution_count": 138,
     "metadata": {},
     "output_type": "execute_result"
    }
   ],
   "source": [
    "folds=StratifiedKFold(n_splits=3)\n",
    "folds"
   ]
  },
  {
   "cell_type": "code",
   "execution_count": 62,
   "id": "bc9c3fd0",
   "metadata": {},
   "outputs": [],
   "source": [
    "data=[1,2,3,4,5,6,7,8,9]"
   ]
  },
  {
   "cell_type": "code",
   "execution_count": 63,
   "id": "4ca38bf6",
   "metadata": {},
   "outputs": [
    {
     "name": "stdout",
     "output_type": "stream",
     "text": [
      "[3 4 5 6 7 8] [0 1 2]\n",
      "[0 1 2 6 7 8] [3 4 5]\n",
      "[0 1 2 3 4 5] [6 7 8]\n"
     ]
    }
   ],
   "source": [
    "for train_index,test_index in kf.split(data):\n",
    "    print(train_index,test_index)"
   ]
  },
  {
   "cell_type": "code",
   "execution_count": 164,
   "id": "491cda47",
   "metadata": {},
   "outputs": [],
   "source": [
    "def get_score(model,X_train,X_test,y_train,y_test):\n",
    "    model.fit(X_train,y_train)\n",
    "    return model.score(X_test,y_test)"
   ]
  },
  {
   "cell_type": "code",
   "execution_count": 165,
   "id": "a7cd41c0",
   "metadata": {},
   "outputs": [],
   "source": [
    "lr=[]\n",
    "svm=[]\n",
    "rf=[]\n",
    "\n",
    "for train_index,test_index in kf.split(digits.data):\n",
    "    X_train, X_test, y_train, y_test = digits.data[train_index], digits.data[test_index], digits.target[train_index], digits.target[test_index]\n",
    "    lr.append(get_score(LogisticRegression(), X_train, X_test, y_train, y_test))\n",
    "    svm.append(get_score(SVC(), X_train, X_test, y_train, y_test))\n",
    "    rf.append(get_score(RandomForestClassifier(), X_train, X_test, y_train, y_test))"
   ]
  },
  {
   "cell_type": "code",
   "execution_count": 166,
   "id": "63022721",
   "metadata": {},
   "outputs": [
    {
     "data": {
      "text/plain": [
       "[0.9055555555555556,\n",
       " 0.9777777777777777,\n",
       " 0.8777777777777778,\n",
       " 0.9555555555555556,\n",
       " 0.9444444444444444,\n",
       " 0.9666666666666667,\n",
       " 0.9555555555555556,\n",
       " 0.9329608938547486,\n",
       " 0.8770949720670391,\n",
       " 0.9217877094972067]"
      ]
     },
     "execution_count": 166,
     "metadata": {},
     "output_type": "execute_result"
    }
   ],
   "source": [
    "lr #accuracy scores of the models during each iteration"
   ]
  },
  {
   "cell_type": "code",
   "execution_count": 167,
   "id": "bd176592",
   "metadata": {},
   "outputs": [
    {
     "data": {
      "text/plain": [
       "[0.9444444444444444,\n",
       " 1.0,\n",
       " 0.9333333333333333,\n",
       " 0.9833333333333333,\n",
       " 0.9833333333333333,\n",
       " 0.9888888888888889,\n",
       " 0.9888888888888889,\n",
       " 0.994413407821229,\n",
       " 0.9664804469273743,\n",
       " 0.9497206703910615]"
      ]
     },
     "execution_count": 167,
     "metadata": {},
     "output_type": "execute_result"
    }
   ],
   "source": [
    "svm"
   ]
  },
  {
   "cell_type": "code",
   "execution_count": 168,
   "id": "6eb4633d",
   "metadata": {},
   "outputs": [
    {
     "data": {
      "text/plain": [
       "[0.9,\n",
       " 0.9777777777777777,\n",
       " 0.9388888888888889,\n",
       " 0.9555555555555556,\n",
       " 0.9555555555555556,\n",
       " 0.9722222222222222,\n",
       " 0.9722222222222222,\n",
       " 0.9608938547486033,\n",
       " 0.9385474860335196,\n",
       " 0.9441340782122905]"
      ]
     },
     "execution_count": 168,
     "metadata": {},
     "output_type": "execute_result"
    }
   ],
   "source": [
    "rf"
   ]
  },
  {
   "cell_type": "code",
   "execution_count": 169,
   "id": "de49ccfb",
   "metadata": {},
   "outputs": [
    {
     "data": {
      "text/plain": [
       "array([0.90555556, 0.96111111, 0.87777778, 0.92777778, 0.94444444,\n",
       "       0.96666667, 0.95      , 0.93854749, 0.87150838, 0.93854749])"
      ]
     },
     "execution_count": 169,
     "metadata": {},
     "output_type": "execute_result"
    }
   ],
   "source": [
    "from sklearn.model_selection import cross_val_score\n",
    "\n",
    "cross_val_score(LogisticRegression(), digits.data, digits.target, cv=10)  #same steps did using for loop, cv--no.of folds"
   ]
  },
  {
   "cell_type": "code",
   "execution_count": 146,
   "id": "4044d59f",
   "metadata": {},
   "outputs": [],
   "source": [
    "lr_stratified=[]\n",
    "svm_stratified=[]\n",
    "rf_stratified=[]\n",
    "\n",
    "for train_index,test_index in folds.split(digits.data,digits.target):\n",
    "    X_train, X_test, y_train, y_test = digits.data[train_index], digits.data[test_index], digits.target[train_index], digits.target[test_index]\n",
    "    lr_stratified.append(get_score(LogisticRegression(), X_train, X_test, y_train, y_test))\n",
    "    svm_stratified.append(get_score(SVC(), X_train, X_test, y_train, y_test))\n",
    "    rf_stratified.append(get_score(RandomForestClassifier(), X_train, X_test, y_train, y_test))"
   ]
  },
  {
   "cell_type": "code",
   "execution_count": 147,
   "id": "60993360",
   "metadata": {},
   "outputs": [
    {
     "data": {
      "text/plain": [
       "[0.9215358931552587, 0.9415692821368948, 0.9165275459098498]"
      ]
     },
     "execution_count": 147,
     "metadata": {},
     "output_type": "execute_result"
    }
   ],
   "source": [
    "lr_stratified"
   ]
  },
  {
   "cell_type": "code",
   "execution_count": 148,
   "id": "eb1ef6c7",
   "metadata": {},
   "outputs": [
    {
     "data": {
      "text/plain": [
       "[0.9649415692821369, 0.9799666110183639, 0.9649415692821369]"
      ]
     },
     "execution_count": 148,
     "metadata": {},
     "output_type": "execute_result"
    }
   ],
   "source": [
    "svm_stratified"
   ]
  },
  {
   "cell_type": "code",
   "execution_count": 150,
   "id": "22fb9533",
   "metadata": {},
   "outputs": [
    {
     "data": {
      "text/plain": [
       "[0.9465776293823038, 0.9465776293823038, 0.9248747913188647]"
      ]
     },
     "execution_count": 150,
     "metadata": {},
     "output_type": "execute_result"
    }
   ],
   "source": [
    "rf_stratified"
   ]
  },
  {
   "cell_type": "code",
   "execution_count": null,
   "id": "2f272fa8",
   "metadata": {},
   "outputs": [],
   "source": []
  }
 ],
 "metadata": {
  "kernelspec": {
   "display_name": "Python 3 (ipykernel)",
   "language": "python",
   "name": "python3"
  },
  "language_info": {
   "codemirror_mode": {
    "name": "ipython",
    "version": 3
   },
   "file_extension": ".py",
   "mimetype": "text/x-python",
   "name": "python",
   "nbconvert_exporter": "python",
   "pygments_lexer": "ipython3",
   "version": "3.9.12"
  }
 },
 "nbformat": 4,
 "nbformat_minor": 5
}
